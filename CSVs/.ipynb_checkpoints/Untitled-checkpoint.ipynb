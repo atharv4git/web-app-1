{
 "cells": [
  {
   "cell_type": "code",
   "execution_count": 1,
   "id": "1758b1c2",
   "metadata": {},
   "outputs": [],
   "source": [
    "import pandas as pd"
   ]
  },
  {
   "cell_type": "code",
   "execution_count": 12,
   "id": "9b42adef",
   "metadata": {},
   "outputs": [
    {
     "name": "stdout",
     "output_type": "stream",
     "text": [
      "   Unnamed: 0                                               name  \\\n",
      "0           0  ['Dinesh Kumar', 'Mohit Gupta', 'Siddharth Raj...   \n",
      "1           0  ['Salman Khan', 'Aayush Mani', 'ajay kumar', '...   \n",
      "2           0  ['Stock Market', 'Alka Singh', 'Er. Anjani Kum...   \n",
      "3           0  ['Gokul Joshi', 'ARVIND YADAV', 'Varsani Ranja...   \n",
      "4           0  ['Parth garg', 'Naveen Kumar', 'Debasish Kumar...   \n",
      "\n",
      "                                             comment  \\\n",
      "0  ['Great Sir, you’re amazing.\\nAfter logic buil...   \n",
      "1  ['You all are so admirable that i enjoy every ...   \n",
      "2  ['thanks a lot sir, you are really a great edu...   \n",
      "3  ['Sir I was struck by the TSRN function and yo...   \n",
      "4  ['Good afternoon sir...\\nSir I want to know my...   \n",
      "\n",
      "                                               title  views  \\\n",
      "0   LIVE Community Classes Announcement | Win Prizes  22463   \n",
      "1  Teacher's Day Special Announcement | Offers | ...   7694   \n",
      "2  Strings in C Language | Community Classes | LI...   9514   \n",
      "3  Functions in C Language | Community Classes | ...  13754   \n",
      "4  C Language | Assignment Solution Day-2 | Commu...   8274   \n",
      "\n",
      "                                         description date_published duration  \\\n",
      "0  Free LIVE community classes | Mon to Fri 9:45 ...     2022-06-13    10:45   \n",
      "1  Course Link: https://bit.ly/3Ko1JekUse Coupon ...     2022-09-05     0:15   \n",
      "2  LIVE Community Classes -For notes, assignments...     2022-08-04     0:15   \n",
      "3  LIVE Community Classes For notes, assignments ...     2022-08-01     0:15   \n",
      "4  LIVE Community Classes - Assignment SolutionsF...     2022-07-14     0:15   \n",
      "\n",
      "                                                tags  likes  \\\n",
      "0  C-Language, JAVA, C++, Saurabh, Shukla, Sir, m...   1662   \n",
      "1  C-Language, JAVA, C++, Saurabh, Shukla, Sir, m...    459   \n",
      "2  C-Language, JAVA, C++, Saurabh, Shukla, Sir, m...    497   \n",
      "3  C-Language, JAVA, C++, Saurabh, Shukla, Sir, m...    690   \n",
      "4  C-Language, JAVA, C++, Saurabh, Shukla, Sir, m...    386   \n",
      "\n",
      "                                             channel    vid_id  \n",
      "0  {'name': 'MySirG.com', 'url': 'https://www.you...  vid_id_0  \n",
      "1  {'name': 'MySirG.com', 'url': 'https://www.you...  vid_id_1  \n",
      "2  {'name': 'MySirG.com', 'url': 'https://www.you...  vid_id_2  \n",
      "3  {'name': 'MySirG.com', 'url': 'https://www.you...  vid_id_3  \n",
      "4  {'name': 'MySirG.com', 'url': 'https://www.you...  vid_id_4  \n"
     ]
    }
   ],
   "source": [
    "df = pd.read_csv(\"main_csv_mysirg.csv\")\n",
    "print(df.head())"
   ]
  },
  {
   "cell_type": "code",
   "execution_count": 14,
   "id": "3f30cb2e",
   "metadata": {},
   "outputs": [],
   "source": [
    "df = df.drop(columns=[\"Unnamed: 0\"])"
   ]
  },
  {
   "cell_type": "code",
   "execution_count": 11,
   "id": "39261252",
   "metadata": {},
   "outputs": [],
   "source": [
    "df.to_csv(\"main_csv3_mysirg.csv\")"
   ]
  },
  {
   "cell_type": "code",
   "execution_count": null,
   "id": "cb8d70d2",
   "metadata": {},
   "outputs": [],
   "source": []
  }
 ],
 "metadata": {
  "kernelspec": {
   "display_name": "Python 3 (ipykernel)",
   "language": "python",
   "name": "python3"
  },
  "language_info": {
   "codemirror_mode": {
    "name": "ipython",
    "version": 3
   },
   "file_extension": ".py",
   "mimetype": "text/x-python",
   "name": "python",
   "nbconvert_exporter": "python",
   "pygments_lexer": "ipython3",
   "version": "3.9.12"
  }
 },
 "nbformat": 4,
 "nbformat_minor": 5
}
